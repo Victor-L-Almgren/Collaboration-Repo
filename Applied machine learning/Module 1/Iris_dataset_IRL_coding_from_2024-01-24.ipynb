{
 "cells": [
  {
   "cell_type": "markdown",
   "id": "measured-decrease",
   "metadata": {},
   "source": [
    "# A first modell - Iris (a reaaaaally classical dataset)"
   ]
  },
  {
   "cell_type": "code",
   "execution_count": 1,
   "id": "expired-separate",
   "metadata": {},
   "outputs": [],
   "source": [
    "import matplotlib.pyplot as plt\n",
    "import numpy as np\n",
    "from sklearn import datasets\n",
    "from sklearn.neighbors import KNeighborsClassifier\n",
    "from sklearn.tree import DecisionTreeClassifier\n",
    "from sklearn.tree import plot_tree\n",
    "\n",
    "plt.style.use('dark_background')"
   ]
  },
  {
   "cell_type": "code",
   "execution_count": 2,
   "id": "violent-drawing",
   "metadata": {},
   "outputs": [],
   "source": [
    "iris = datasets.load_iris()\n",
    "\n",
    "random_indeces = np.arange(iris.data.shape[0])\n",
    "np.random.shuffle(random_indeces)\n",
    "\n",
    "X_train = iris.data[random_indeces[0:100], 0:2]\n",
    "y_train = iris.target[random_indeces[0:100]]\n",
    "X_test = iris.data[random_indeces[100:], 0:2]\n",
    "y_test = iris.target[random_indeces[100:]]\n",
    "\n"
   ]
  },
  {
   "cell_type": "code",
   "execution_count": 3,
   "id": "promotional-mailing",
   "metadata": {},
   "outputs": [
    {
     "ename": "NameError",
     "evalue": "name 'linear_vector' is not defined",
     "output_type": "error",
     "traceback": [
      "\u001b[1;31m---------------------------------------------------------------------------\u001b[0m",
      "\u001b[1;31mNameError\u001b[0m                                 Traceback (most recent call last)",
      "Cell \u001b[1;32mIn[3], line 1\u001b[0m\n\u001b[1;32m----> 1\u001b[0m \u001b[43mlinear_vector\u001b[49m\n",
      "\u001b[1;31mNameError\u001b[0m: name 'linear_vector' is not defined"
     ]
    }
   ],
   "source": [
    "linear_vector"
   ]
  },
  {
   "cell_type": "code",
   "execution_count": null,
   "id": "engaged-amount",
   "metadata": {},
   "outputs": [],
   "source": [
    "print(np.random.shuffle(linear_vector))"
   ]
  },
  {
   "cell_type": "code",
   "execution_count": null,
   "id": "essential-calendar",
   "metadata": {},
   "outputs": [],
   "source": [
    "iris.feature_names"
   ]
  },
  {
   "cell_type": "code",
   "execution_count": null,
   "id": "south-collar",
   "metadata": {},
   "outputs": [],
   "source": [
    "iris.data.shape[0]"
   ]
  },
  {
   "cell_type": "code",
   "execution_count": null,
   "id": "practical-purpose",
   "metadata": {},
   "outputs": [],
   "source": [
    "iris.data[0:8,:]"
   ]
  },
  {
   "cell_type": "code",
   "execution_count": null,
   "id": "isolated-effect",
   "metadata": {},
   "outputs": [],
   "source": [
    "X_train"
   ]
  },
  {
   "cell_type": "code",
   "execution_count": null,
   "id": "altered-spoke",
   "metadata": {},
   "outputs": [],
   "source": [
    "iris.target_names"
   ]
  },
  {
   "cell_type": "code",
   "execution_count": null,
   "id": "classical-learning",
   "metadata": {},
   "outputs": [],
   "source": [
    "iris.feature_names"
   ]
  },
  {
   "cell_type": "code",
   "execution_count": null,
   "id": "initial-consent",
   "metadata": {},
   "outputs": [],
   "source": [
    "plt.figure()\n",
    "plt.plot(iris.target)\n",
    "plt.show()"
   ]
  },
  {
   "cell_type": "code",
   "execution_count": null,
   "id": "derived-commodity",
   "metadata": {},
   "outputs": [],
   "source": [
    "plt.figure(figsize=(7,7))\n",
    "#plt.scatter(X_train[:,1], X_train[:,2], c=y_train)\n",
    "\n",
    "plt.scatter(X_train[:,0], X_train[:,1], c=y_train)\n",
    "plt.scatter(X_test[:,0], X_test[:,1], c=y_test, marker='+')\n",
    "plt.xlabel(\"Sepal length\")\n",
    "plt.ylabel(\"Sepal width\")\n",
    "plt.show()"
   ]
  },
  {
   "cell_type": "code",
   "execution_count": null,
   "id": "sapphire-coupon",
   "metadata": {},
   "outputs": [],
   "source": [
    "plt.figure(figsize=(7,7))\n",
    "feature_number = 3\n",
    "plt.hist(iris.data[0:50,feature_number], bins=15, alpha=0.5, color='c', label='')\n",
    "plt.hist(iris.data[50:100,feature_number], bins=15, alpha=0.5, color='m', label='')\n",
    "plt.hist(iris.data[100:150,feature_number], bins=15, alpha=0.5, color='y', label='')\n",
    "plt.show()"
   ]
  },
  {
   "cell_type": "code",
   "execution_count": null,
   "id": "democratic-convert",
   "metadata": {},
   "outputs": [],
   "source": [
    "clf_knn = KNeighborsClassifier(n_neighbors=7)\n",
    "clf_knn.fit(X_train, y_train)\n",
    "\n",
    "clf_dt = DecisionTreeClassifier()\n",
    "clf_dt.fit(X_train, y_train)\n",
    "\n",
    "# note that the features needs to be normalized such that they all span the same range in order to kNN to work properly (but let us just assume they span the same range for now)"
   ]
  },
  {
   "cell_type": "code",
   "execution_count": null,
   "id": "black-western",
   "metadata": {},
   "outputs": [],
   "source": [
    "print(\"Accuracy (empirical) of the k-NN algorithm after training is %2.2f\" % float(clf_knn.score(X_train, y_train)*100.0))\n",
    "print(\"Accuracy (generalization) of the k-NN algorithm after training is %2.2f\" % float(clf_knn.score(X_test, y_test)*100.0))"
   ]
  },
  {
   "cell_type": "code",
   "execution_count": null,
   "id": "pharmaceutical-queen",
   "metadata": {},
   "outputs": [],
   "source": [
    "print(\"Accuracy (empirical) of the DT algorithm after training is %2.2f\" % float(clf_dt.score(X_train, y_train)*100.0))\n",
    "print(\"Accuracy (generalization) of the DT algorithm after training is %2.2f\" % float(clf_dt.score(X_test, y_test)*100.0))"
   ]
  },
  {
   "cell_type": "code",
   "execution_count": null,
   "id": "funded-geography",
   "metadata": {},
   "outputs": [],
   "source": [
    "x_min, x_max = X_train[:, 0].min() - 1, X_train[:, 0].max() + 1\n",
    "y_min, y_max = X_train[:, 1].min() - 1, X_train[:, 1].max() + 1\n",
    "plot_step = 0.1\n",
    "xx, yy = np.meshgrid(np.arange(x_min, x_max, plot_step), np.arange(y_min, y_max, plot_step))\n",
    "\n",
    "\n",
    "Z_kNN = clf_knn.predict(np.c_[xx.ravel(), yy.ravel()])\n",
    "Z_kNN = Z_kNN.reshape(xx.shape)\n",
    "\n",
    "Z_dt = clf_dt.predict(np.c_[xx.ravel(), yy.ravel()])\n",
    "Z_dt = Z_dt.reshape(xx.shape)\n",
    "\n",
    "plt.figure(figsize=(20,10))\n",
    "plt.subplot(1, 2, 1)\n",
    "plt.title('kNN')\n",
    "plt.contourf(xx, yy, Z_kNN, cmap=plt.cm.RdYlBu)\n",
    "plt.scatter(X_test[:, 0], X_test[:, 1], c=y_test, cmap=plt.cm.Set1, edgecolor=\"k\")\n",
    "plt.subplot(1, 2, 2)\n",
    "plt.title('Decision Tree')\n",
    "plt.contourf(xx, yy, Z_dt, cmap=plt.cm.RdYlBu)\n",
    "plt.scatter(X_test[:, 0], X_test[:, 1], c=y_test, cmap=plt.cm.Set1, edgecolor=\"k\")\n",
    "plt.show()"
   ]
  },
  {
   "cell_type": "code",
   "execution_count": null,
   "id": "administrative-notion",
   "metadata": {},
   "outputs": [],
   "source": [
    "plt.figure(figsize=(20,20))\n",
    "plot_tree(clf_dt)"
   ]
  },
  {
   "cell_type": "code",
   "execution_count": null,
   "id": "italian-launch",
   "metadata": {},
   "outputs": [],
   "source": []
  }
 ],
 "metadata": {
  "kernelspec": {
   "display_name": "Python 3",
   "language": "python",
   "name": "python3"
  },
  "language_info": {
   "codemirror_mode": {
    "name": "ipython",
    "version": 3
   },
   "file_extension": ".py",
   "mimetype": "text/x-python",
   "name": "python",
   "nbconvert_exporter": "python",
   "pygments_lexer": "ipython3",
   "version": "3.12.8"
  }
 },
 "nbformat": 4,
 "nbformat_minor": 5
}
