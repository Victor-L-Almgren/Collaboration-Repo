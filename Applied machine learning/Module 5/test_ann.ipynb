{
 "cells": [
  {
   "cell_type": "code",
   "execution_count": 1,
   "id": "spectacular-duration",
   "metadata": {
    "id": "spectacular-duration"
   },
   "outputs": [],
   "source": [
    "#  _____  _       _ _\n",
    "# |  __ \\(_)     (_) |\n",
    "# | |  | |_  __ _ _| |_\n",
    "# | |  | | |/ _` | | __|\n",
    "# | |__| | | (_| | | |_\n",
    "# |_____/|_|\\__, |_|\\__|_  __ _           _   _\n",
    "#      | |   __/ |     (_)/ _(_)         | | (_)\n",
    "#   ___| | _|___/__ ___ _| |_ _  ___ __ _| |_ _  ___  _ __\n",
    "#  / __| |/ _` / __/ __| |  _| |/ __/ _` | __| |/ _ \\| '_ \\\n",
    "# | (__| | (_| \\__ \\__ \\ | | | | (_| (_| | |_| | (_) | | | |\n",
    "#  \\___|_|\\__,_|___/___/_|_| |_|\\___\\__,_|\\__|_|\\___/|_| |_|  v.4.0 (now using neural networks)\n",
    "#\n",
    "# DT4031 - Lab V"
   ]
  },
  {
   "cell_type": "code",
   "execution_count": 2,
   "id": "analyzed-sheffield",
   "metadata": {
    "id": "analyzed-sheffield"
   },
   "outputs": [],
   "source": [
    "# Perform necessary imports for the analysis tasks\n",
    "import matplotlib.pyplot as plt\n",
    "from random import randrange\n",
    "import scipy.stats as stats\n",
    "import os.path as ospath\n",
    "import tensorflow as tf\n",
    "import pandas as pd\n",
    "import numpy as np\n",
    "import requests\n",
    "import shutil\n",
    "import gzip\n",
    "import os"
   ]
  },
  {
   "cell_type": "code",
   "execution_count": 3,
   "id": "stupid-adapter",
   "metadata": {
    "id": "stupid-adapter"
   },
   "outputs": [],
   "source": [
    "# Use dark mode of the matplotlib\n",
    "plt.style.use('dark_background')"
   ]
  },
  {
   "cell_type": "code",
   "execution_count": 4,
   "id": "exclusive-massachusetts",
   "metadata": {
    "colab": {
     "base_uri": "https://localhost:8080/"
    },
    "id": "exclusive-massachusetts",
    "outputId": "b0832a8d-d19f-4f2b-8dc4-2399f2eb44fd"
   },
   "outputs": [
    {
     "name": "stdout",
     "output_type": "stream",
     "text": [
      "TensorFlow version: 2.18.0\n"
     ]
    }
   ],
   "source": [
    "print(\"TensorFlow version:\", tf.__version__) # should be 2.8.0"
   ]
  },
  {
   "cell_type": "code",
   "execution_count": 5,
   "id": "funny-destiny",
   "metadata": {
    "colab": {
     "base_uri": "https://localhost:8080/"
    },
    "id": "funny-destiny",
    "outputId": "6b348bdc-dede-4bda-cd12-eb861dabec97"
   },
   "outputs": [],
   "source": [
    "\n",
    "# Correct base URL for downloading the MNIST dataset files\n",
    "#base_url = \"https://github.com/fgnt/mnist/raw/master/\"\n",
    "#dataset_files = [\n",
    "#    \"train-images-idx3-ubyte.gz\",\n",
    "#    \"train-labels-idx1-ubyte.gz\",\n",
    "#    \"t10k-images-idx3-ubyte.gz\",\n",
    "#    \"t10k-labels-idx1-ubyte.gz\"\n",
    "#]\n",
    "\n",
    "# Function to download the files\n",
    "#for file_name in dataset_files:\n",
    "#    file_url = base_url + file_name\n",
    "#    if not os.path.isfile(file_name):\n",
    "#        print(f\"Downloading {file_name}...\")\n",
    "#        try:\n",
    "#            response = requests.get(file_url, allow_redirects=True)\n",
    "#            if response.status_code == 200:\n",
    "#                with open(file_name, 'wb') as f:\n",
    "#                    f.write(response.content)\n",
    "#                print(f\"Downloaded {file_name}.\")\n",
    "#            else:\n",
    "#                print(f\"Failed to download {file_name}: HTTP {response.status_code}\")\n",
    "#        except Exception as e:\n",
    "#            print(f\"Error downloading {file_name}: {e}\")\n",
    "#    else:\n",
    "#        print(f\"Skipping {file_name}, already downloaded.\")"
   ]
  },
  {
   "cell_type": "code",
   "execution_count": 6,
   "id": "critical-portuguese",
   "metadata": {
    "id": "critical-portuguese"
   },
   "outputs": [],
   "source": [
    "# Function for reading input images\n",
    "def read_idx3_ubyte_data(filename: str, image_size: int = 28):\n",
    "\n",
    "\n",
    "    f = gzip.open(filename,'r')\n",
    "\n",
    "    f.seek(0, os.SEEK_END)\n",
    "    num_images = int(f.tell()/(image_size*image_size))\n",
    "    f.seek(0, 0)\n",
    "    print(\"Reading %d number of images\" % num_images)\n",
    "\n",
    "    f.read(16)\n",
    "    buf = f.read(image_size * image_size * num_images)\n",
    "    data = np.frombuffer(buf, dtype=np.uint8).astype(np.float32)\n",
    "    data = data.reshape(num_images, image_size, image_size, 1)\n",
    "\n",
    "    return data\n",
    "\n",
    "# Function for reading labels\n",
    "def read_labels_data(filename: str):\n",
    "    labels = []\n",
    "    f = gzip.open(filename,'r')\n",
    "\n",
    "    f.seek(0, os.SEEK_END)\n",
    "    num_labels = f.tell()-8\n",
    "    f.seek(0, 0)\n",
    "    print(\"Reading %d number of labels\" % num_labels)\n",
    "    f.read(8)\n",
    "    for i in range(0, num_labels):\n",
    "        buf = f.read(1)\n",
    "        label = np.frombuffer(buf, dtype=np.uint8).astype(np.int64)\n",
    "        labels.append(label)\n",
    "\n",
    "    return labels\n"
   ]
  },
  {
   "cell_type": "code",
   "execution_count": 7,
   "id": "tamil-needle",
   "metadata": {
    "colab": {
     "base_uri": "https://localhost:8080/"
    },
    "id": "tamil-needle",
    "outputId": "063ac794-fa9f-4a00-c4d7-45d93bb19a4a"
   },
   "outputs": [
    {
     "name": "stdout",
     "output_type": "stream",
     "text": [
      "Reading 60000 number of images\n",
      "Reading 10000 number of images\n",
      "Reading 60000 number of labels\n",
      "Reading 10000 number of labels\n"
     ]
    }
   ],
   "source": [
    "# read data (both images and correspondig labels)\n",
    "data_train = read_idx3_ubyte_data('train-images-idx3-ubyte.gz').reshape((60000, 28*28))\n",
    "data_test = read_idx3_ubyte_data('t10k-images-idx3-ubyte.gz').reshape((10000, 28*28))\n",
    "labels_train = np.array(read_labels_data('train-labels-idx1-ubyte.gz'))\n",
    "labels_test = np.array(read_labels_data('t10k-labels-idx1-ubyte.gz'))"
   ]
  },
  {
   "cell_type": "code",
   "execution_count": 8,
   "id": "affected-verse",
   "metadata": {
    "id": "affected-verse"
   },
   "outputs": [],
   "source": [
    "data_train, data_test = data_train / 255.0, data_test / 255.0"
   ]
  },
  {
   "cell_type": "code",
   "execution_count": 9,
   "id": "waiting-killing",
   "metadata": {
    "id": "waiting-killing"
   },
   "outputs": [],
   "source": [
    "def plot_single_digit(digit_data):\n",
    "    image = np.asarray(digit_data).squeeze()\n",
    "    plt.imshow(image, cmap='gray')\n",
    "    plt.colorbar()\n",
    "    plt.show()"
   ]
  },
  {
   "cell_type": "code",
   "execution_count": 10,
   "id": "cleared-designation",
   "metadata": {
    "colab": {
     "base_uri": "https://localhost:8080/",
     "height": 435
    },
    "id": "cleared-designation",
    "outputId": "e351a119-93b4-4ffe-c888-340825f8c227"
   },
   "outputs": [
    {
     "data": {
      "image/png": "[encoded data removed]",
      "text/plain": [
       "<Figure size 640x480 with 2 Axes>"
      ]
     },
     "metadata": {},
     "output_type": "display_data"
    }
   ],
   "source": [
    "# plot random digit in the training data set\n",
    "plot_single_digit(data_train[randrange(60000)].reshape((28,28)))"
   ]
  },
  {
   "cell_type": "code",
   "execution_count": 11,
   "id": "executed-community",
   "metadata": {
    "id": "executed-community"
   },
   "outputs": [],
   "source": [
    "labels_train = tf.keras.utils.to_categorical(labels_train)\n",
    "labels_test = tf.keras.utils.to_categorical(labels_test)"
   ]
  },
  {
   "cell_type": "code",
   "execution_count": 12,
   "id": "parliamentary-replica",
   "metadata": {
    "colab": {
     "base_uri": "https://localhost:8080/"
    },
    "id": "parliamentary-replica",
    "outputId": "908642e7-644f-4a44-d37c-b940a2c8cd07"
   },
   "outputs": [
    {
     "data": {
      "text/plain": [
       "array([1., 0., 0., 0., 0., 0., 0., 0., 0., 0.])"
      ]
     },
     "execution_count": 12,
     "metadata": {},
     "output_type": "execute_result"
    }
   ],
   "source": [
    "labels_train[88]"
   ]
  },
  {
   "cell_type": "code",
   "execution_count": 13,
   "id": "corrected-theory",
   "metadata": {
    "colab": {
     "base_uri": "https://localhost:8080/",
     "height": 435
    },
    "id": "corrected-theory",
    "outputId": "d3af0d43-7a2b-4ffe-d195-4c506cad9046"
   },
   "outputs": [
    {
     "data": {
      "image/png": "[encoded data removed]",
      "text/plain": [
       "<Figure size 640x480 with 2 Axes>"
      ]
     },
     "metadata": {},
     "output_type": "display_data"
    }
   ],
   "source": [
    "plot_single_digit(data_train[88].reshape((28,28)))"
   ]
  },
  {
   "cell_type": "code",
   "execution_count": 14,
   "id": "transparent-suspension",
   "metadata": {
    "colab": {
     "base_uri": "https://localhost:8080/"
    },
    "id": "transparent-suspension",
    "outputId": "06254e07-370f-4dda-ea6c-2576dacbf857"
   },
   "outputs": [
    {
     "name": "stderr",
     "output_type": "stream",
     "text": [
      "C:\\Users\\victo\\AppData\\Local\\Packages\\PythonSoftwareFoundation.Python.3.12_qbz5n2kfra8p0\\LocalCache\\local-packages\\Python312\\site-packages\\keras\\src\\layers\\core\\dense.py:87: UserWarning: Do not pass an `input_shape`/`input_dim` argument to a layer. When using Sequential models, prefer using an `Input(shape)` object as the first layer in the model instead.\n",
      "  super().__init__(activity_regularizer=activity_regularizer, **kwargs)\n"
     ]
    }
   ],
   "source": [
    "model = tf.keras.models.Sequential([\n",
    "  tf.keras.layers.Dense(512, activation='relu', input_shape=(28*28,)),\n",
    "  tf.keras.layers.Dense(128, activation='relu'),\n",
    "  tf.keras.layers.Dense(64, activation='relu'),\n",
    "  tf.keras.layers.Dense(10, activation='softmax')\n",
    "])"
   ]
  },
  {
   "cell_type": "code",
   "execution_count": 15,
   "id": "cooked-steal",
   "metadata": {
    "id": "cooked-steal"
   },
   "outputs": [],
   "source": [
    "model.compile(optimizer='adam',\n",
    "              loss=tf.keras.losses.CategoricalCrossentropy(from_logits=True),\n",
    "              metrics=['accuracy'])"
   ]
  },
  {
   "cell_type": "code",
   "execution_count": 16,
   "id": "nutritional-antarctica",
   "metadata": {
    "colab": {
     "base_uri": "https://localhost:8080/",
     "height": 272
    },
    "id": "nutritional-antarctica",
    "outputId": "10672978-e530-4c87-aefe-1088f92155fa"
   },
   "outputs": [
    {
     "data": {
      "text/html": [
       "<pre style=\"white-space:pre;overflow-x:auto;line-height:normal;font-family:Menlo,'DejaVu Sans Mono',consolas,'Courier New',monospace\"><span style=\"font-weight: bold\">Model: \"sequential\"</span>\n",
       "</pre>\n"
      ],
      "text/plain": [
       "\u001b[1mModel: \"sequential\"\u001b[0m\n"
      ]
     },
     "metadata": {},
     "output_type": "display_data"
    },
    {
     "data": {
      "text/html": [
       "<pre style=\"white-space:pre;overflow-x:auto;line-height:normal;font-family:Menlo,'DejaVu Sans Mono',consolas,'Courier New',monospace\">┏━━━━━━━━━━━━━━━━━━━━━━━━━━━━━━━━━┳━━━━━━━━━━━━━━━━━━━━━━━━┳━━━━━━━━━━━━━━━┓\n",
       "┃<span style=\"font-weight: bold\"> Layer (type)                    </span>┃<span style=\"font-weight: bold\"> Output Shape           </span>┃<span style=\"font-weight: bold\">       Param # </span>┃\n",
       "┡━━━━━━━━━━━━━━━━━━━━━━━━━━━━━━━━━╇━━━━━━━━━━━━━━━━━━━━━━━━╇━━━━━━━━━━━━━━━┩\n",
       "│ dense (<span style=\"color: #0087ff; text-decoration-color: #0087ff\">Dense</span>)                   │ (<span style=\"color: #00d7ff; text-decoration-color: #00d7ff\">None</span>, <span style=\"color: #00af00; text-decoration-color: #00af00\">512</span>)            │       <span style=\"color: #00af00; text-decoration-color: #00af00\">401,920</span> │\n",
       "├─────────────────────────────────┼────────────────────────┼───────────────┤\n",
       "│ dense_1 (<span style=\"color: #0087ff; text-decoration-color: #0087ff\">Dense</span>)                 │ (<span style=\"color: #00d7ff; text-decoration-color: #00d7ff\">None</span>, <span style=\"color: #00af00; text-decoration-color: #00af00\">128</span>)            │        <span style=\"color: #00af00; text-decoration-color: #00af00\">65,664</span> │\n",
       "├─────────────────────────────────┼────────────────────────┼───────────────┤\n",
       "│ dense_2 (<span style=\"color: #0087ff; text-decoration-color: #0087ff\">Dense</span>)                 │ (<span style=\"color: #00d7ff; text-decoration-color: #00d7ff\">None</span>, <span style=\"color: #00af00; text-decoration-color: #00af00\">64</span>)             │         <span style=\"color: #00af00; text-decoration-color: #00af00\">8,256</span> │\n",
       "├─────────────────────────────────┼────────────────────────┼───────────────┤\n",
       "│ dense_3 (<span style=\"color: #0087ff; text-decoration-color: #0087ff\">Dense</span>)                 │ (<span style=\"color: #00d7ff; text-decoration-color: #00d7ff\">None</span>, <span style=\"color: #00af00; text-decoration-color: #00af00\">10</span>)             │           <span style=\"color: #00af00; text-decoration-color: #00af00\">650</span> │\n",
       "└─────────────────────────────────┴────────────────────────┴───────────────┘\n",
       "</pre>\n"
      ],
      "text/plain": [
       "┏━━━━━━━━━━━━━━━━━━━━━━━━━━━━━━━━━┳━━━━━━━━━━━━━━━━━━━━━━━━┳━━━━━━━━━━━━━━━┓\n",
       "┃\u001b[1m \u001b[0m\u001b[1mLayer (type)                   \u001b[0m\u001b[1m \u001b[0m┃\u001b[1m \u001b[0m\u001b[1mOutput Shape          \u001b[0m\u001b[1m \u001b[0m┃\u001b[1m \u001b[0m\u001b[1m      Param #\u001b[0m\u001b[1m \u001b[0m┃\n",
       "┡━━━━━━━━━━━━━━━━━━━━━━━━━━━━━━━━━╇━━━━━━━━━━━━━━━━━━━━━━━━╇━━━━━━━━━━━━━━━┩\n",
       "│ dense (\u001b[38;5;33mDense\u001b[0m)                   │ (\u001b[38;5;45mNone\u001b[0m, \u001b[38;5;34m512\u001b[0m)            │       \u001b[38;5;34m401,920\u001b[0m │\n",
       "├─────────────────────────────────┼────────────────────────┼───────────────┤\n",
       "│ dense_1 (\u001b[38;5;33mDense\u001b[0m)                 │ (\u001b[38;5;45mNone\u001b[0m, \u001b[38;5;34m128\u001b[0m)            │        \u001b[38;5;34m65,664\u001b[0m │\n",
       "├─────────────────────────────────┼────────────────────────┼───────────────┤\n",
       "│ dense_2 (\u001b[38;5;33mDense\u001b[0m)                 │ (\u001b[38;5;45mNone\u001b[0m, \u001b[38;5;34m64\u001b[0m)             │         \u001b[38;5;34m8,256\u001b[0m │\n",
       "├─────────────────────────────────┼────────────────────────┼───────────────┤\n",
       "│ dense_3 (\u001b[38;5;33mDense\u001b[0m)                 │ (\u001b[38;5;45mNone\u001b[0m, \u001b[38;5;34m10\u001b[0m)             │           \u001b[38;5;34m650\u001b[0m │\n",
       "└─────────────────────────────────┴────────────────────────┴───────────────┘\n"
      ]
     },
     "metadata": {},
     "output_type": "display_data"
    },
    {
     "data": {
      "text/html": [
       "<pre style=\"white-space:pre;overflow-x:auto;line-height:normal;font-family:Menlo,'DejaVu Sans Mono',consolas,'Courier New',monospace\"><span style=\"font-weight: bold\"> Total params: </span><span style=\"color: #00af00; text-decoration-color: #00af00\">476,490</span> (1.82 MB)\n",
       "</pre>\n"
      ],
      "text/plain": [
       "\u001b[1m Total params: \u001b[0m\u001b[38;5;34m476,490\u001b[0m (1.82 MB)\n"
      ]
     },
     "metadata": {},
     "output_type": "display_data"
    },
    {
     "data": {
      "text/html": [
       "<pre style=\"white-space:pre;overflow-x:auto;line-height:normal;font-family:Menlo,'DejaVu Sans Mono',consolas,'Courier New',monospace\"><span style=\"font-weight: bold\"> Trainable params: </span><span style=\"color: #00af00; text-decoration-color: #00af00\">476,490</span> (1.82 MB)\n",
       "</pre>\n"
      ],
      "text/plain": [
       "\u001b[1m Trainable params: \u001b[0m\u001b[38;5;34m476,490\u001b[0m (1.82 MB)\n"
      ]
     },
     "metadata": {},
     "output_type": "display_data"
    },
    {
     "data": {
      "text/html": [
       "<pre style=\"white-space:pre;overflow-x:auto;line-height:normal;font-family:Menlo,'DejaVu Sans Mono',consolas,'Courier New',monospace\"><span style=\"font-weight: bold\"> Non-trainable params: </span><span style=\"color: #00af00; text-decoration-color: #00af00\">0</span> (0.00 B)\n",
       "</pre>\n"
      ],
      "text/plain": [
       "\u001b[1m Non-trainable params: \u001b[0m\u001b[38;5;34m0\u001b[0m (0.00 B)\n"
      ]
     },
     "metadata": {},
     "output_type": "display_data"
    }
   ],
   "source": [
    "model.summary()"
   ]
  },
  {
   "cell_type": "code",
   "execution_count": 17,
   "id": "urban-banner",
   "metadata": {
    "colab": {
     "base_uri": "https://localhost:8080/"
    },
    "id": "urban-banner",
    "outputId": "d4c0b6c8-7deb-490c-c5f7-376f7ba58e47"
   },
   "outputs": [
    {
     "name": "stdout",
     "output_type": "stream",
     "text": [
      "Epoch 1/35\n"
     ]
    },
    {
     "name": "stderr",
     "output_type": "stream",
     "text": [
      "C:\\Users\\victo\\AppData\\Local\\Packages\\PythonSoftwareFoundation.Python.3.12_qbz5n2kfra8p0\\LocalCache\\local-packages\\Python312\\site-packages\\keras\\src\\backend\\tensorflow\\nn.py:666: UserWarning: \"`categorical_crossentropy` received `from_logits=True`, but the `output` argument was produced by a Softmax activation and thus does not represent logits. Was this intended?\n",
      "  output, from_logits = _get_logits(\n"
     ]
    },
    {
     "name": "stdout",
     "output_type": "stream",
     "text": [
      "\u001b[1m469/469\u001b[0m \u001b[32m━━━━━━━━━━━━━━━━━━━━\u001b[0m\u001b[37m\u001b[0m \u001b[1m3s\u001b[0m 4ms/step - accuracy: 0.8706 - loss: 0.4583 - val_accuracy: 0.9695 - val_loss: 0.1065\n",
      "Epoch 2/35\n",
      "\u001b[1m469/469\u001b[0m \u001b[32m━━━━━━━━━━━━━━━━━━━━\u001b[0m\u001b[37m\u001b[0m \u001b[1m2s\u001b[0m 4ms/step - accuracy: 0.9722 - loss: 0.0963 - val_accuracy: 0.9732 - val_loss: 0.0800\n",
      "Epoch 3/35\n",
      "\u001b[1m469/469\u001b[0m \u001b[32m━━━━━━━━━━━━━━━━━━━━\u001b[0m\u001b[37m\u001b[0m \u001b[1m2s\u001b[0m 4ms/step - accuracy: 0.9823 - loss: 0.0573 - val_accuracy: 0.9771 - val_loss: 0.0755\n",
      "Epoch 4/35\n",
      "\u001b[1m469/469\u001b[0m \u001b[32m━━━━━━━━━━━━━━━━━━━━\u001b[0m\u001b[37m\u001b[0m \u001b[1m2s\u001b[0m 4ms/step - accuracy: 0.9872 - loss: 0.0393 - val_accuracy: 0.9773 - val_loss: 0.0730\n",
      "Epoch 5/35\n",
      "\u001b[1m469/469\u001b[0m \u001b[32m━━━━━━━━━━━━━━━━━━━━\u001b[0m\u001b[37m\u001b[0m \u001b[1m2s\u001b[0m 4ms/step - accuracy: 0.9908 - loss: 0.0285 - val_accuracy: 0.9771 - val_loss: 0.0730\n",
      "Epoch 6/35\n",
      "\u001b[1m469/469\u001b[0m \u001b[32m━━━━━━━━━━━━━━━━━━━━\u001b[0m\u001b[37m\u001b[0m \u001b[1m2s\u001b[0m 4ms/step - accuracy: 0.9924 - loss: 0.0221 - val_accuracy: 0.9782 - val_loss: 0.0753\n",
      "Epoch 7/35\n",
      "\u001b[1m469/469\u001b[0m \u001b[32m━━━━━━━━━━━━━━━━━━━━\u001b[0m\u001b[37m\u001b[0m \u001b[1m2s\u001b[0m 4ms/step - accuracy: 0.9942 - loss: 0.0173 - val_accuracy: 0.9814 - val_loss: 0.0707\n",
      "Epoch 8/35\n",
      "\u001b[1m469/469\u001b[0m \u001b[32m━━━━━━━━━━━━━━━━━━━━\u001b[0m\u001b[37m\u001b[0m \u001b[1m2s\u001b[0m 4ms/step - accuracy: 0.9948 - loss: 0.0159 - val_accuracy: 0.9796 - val_loss: 0.0863\n",
      "Epoch 9/35\n",
      "\u001b[1m469/469\u001b[0m \u001b[32m━━━━━━━━━━━━━━━━━━━━\u001b[0m\u001b[37m\u001b[0m \u001b[1m2s\u001b[0m 4ms/step - accuracy: 0.9957 - loss: 0.0128 - val_accuracy: 0.9795 - val_loss: 0.0863\n",
      "Epoch 10/35\n",
      "\u001b[1m469/469\u001b[0m \u001b[32m━━━━━━━━━━━━━━━━━━━━\u001b[0m\u001b[37m\u001b[0m \u001b[1m2s\u001b[0m 4ms/step - accuracy: 0.9958 - loss: 0.0124 - val_accuracy: 0.9782 - val_loss: 0.0863\n",
      "Epoch 11/35\n",
      "\u001b[1m469/469\u001b[0m \u001b[32m━━━━━━━━━━━━━━━━━━━━\u001b[0m\u001b[37m\u001b[0m \u001b[1m2s\u001b[0m 4ms/step - accuracy: 0.9944 - loss: 0.0158 - val_accuracy: 0.9816 - val_loss: 0.0736\n",
      "Epoch 12/35\n",
      "\u001b[1m469/469\u001b[0m \u001b[32m━━━━━━━━━━━━━━━━━━━━\u001b[0m\u001b[37m\u001b[0m \u001b[1m2s\u001b[0m 4ms/step - accuracy: 0.9969 - loss: 0.0099 - val_accuracy: 0.9814 - val_loss: 0.0785\n",
      "Epoch 13/35\n",
      "\u001b[1m469/469\u001b[0m \u001b[32m━━━━━━━━━━━━━━━━━━━━\u001b[0m\u001b[37m\u001b[0m \u001b[1m2s\u001b[0m 4ms/step - accuracy: 0.9968 - loss: 0.0104 - val_accuracy: 0.9801 - val_loss: 0.0830\n",
      "Epoch 14/35\n",
      "\u001b[1m469/469\u001b[0m \u001b[32m━━━━━━━━━━━━━━━━━━━━\u001b[0m\u001b[37m\u001b[0m \u001b[1m2s\u001b[0m 4ms/step - accuracy: 0.9973 - loss: 0.0079 - val_accuracy: 0.9815 - val_loss: 0.0773\n",
      "Epoch 15/35\n",
      "\u001b[1m469/469\u001b[0m \u001b[32m━━━━━━━━━━━━━━━━━━━━\u001b[0m\u001b[37m\u001b[0m \u001b[1m2s\u001b[0m 4ms/step - accuracy: 0.9962 - loss: 0.0108 - val_accuracy: 0.9829 - val_loss: 0.0739\n",
      "Epoch 16/35\n",
      "\u001b[1m469/469\u001b[0m \u001b[32m━━━━━━━━━━━━━━━━━━━━\u001b[0m\u001b[37m\u001b[0m \u001b[1m2s\u001b[0m 4ms/step - accuracy: 0.9975 - loss: 0.0076 - val_accuracy: 0.9819 - val_loss: 0.0900\n",
      "Epoch 17/35\n",
      "\u001b[1m469/469\u001b[0m \u001b[32m━━━━━━━━━━━━━━━━━━━━\u001b[0m\u001b[37m\u001b[0m \u001b[1m2s\u001b[0m 4ms/step - accuracy: 0.9976 - loss: 0.0086 - val_accuracy: 0.9782 - val_loss: 0.0959\n",
      "Epoch 18/35\n",
      "\u001b[1m469/469\u001b[0m \u001b[32m━━━━━━━━━━━━━━━━━━━━\u001b[0m\u001b[37m\u001b[0m \u001b[1m2s\u001b[0m 4ms/step - accuracy: 0.9978 - loss: 0.0071 - val_accuracy: 0.9832 - val_loss: 0.0852\n",
      "Epoch 19/35\n",
      "\u001b[1m469/469\u001b[0m \u001b[32m━━━━━━━━━━━━━━━━━━━━\u001b[0m\u001b[37m\u001b[0m \u001b[1m2s\u001b[0m 4ms/step - accuracy: 0.9982 - loss: 0.0057 - val_accuracy: 0.9830 - val_loss: 0.0843\n",
      "Epoch 20/35\n",
      "\u001b[1m469/469\u001b[0m \u001b[32m━━━━━━━━━━━━━━━━━━━━\u001b[0m\u001b[37m\u001b[0m \u001b[1m2s\u001b[0m 4ms/step - accuracy: 0.9987 - loss: 0.0048 - val_accuracy: 0.9827 - val_loss: 0.0910\n",
      "Epoch 21/35\n",
      "\u001b[1m469/469\u001b[0m \u001b[32m━━━━━━━━━━━━━━━━━━━━\u001b[0m\u001b[37m\u001b[0m \u001b[1m2s\u001b[0m 4ms/step - accuracy: 0.9965 - loss: 0.0106 - val_accuracy: 0.9802 - val_loss: 0.0945\n",
      "Epoch 22/35\n",
      "\u001b[1m469/469\u001b[0m \u001b[32m━━━━━━━━━━━━━━━━━━━━\u001b[0m\u001b[37m\u001b[0m \u001b[1m2s\u001b[0m 4ms/step - accuracy: 0.9984 - loss: 0.0051 - val_accuracy: 0.9815 - val_loss: 0.0868\n",
      "Epoch 23/35\n",
      "\u001b[1m469/469\u001b[0m \u001b[32m━━━━━━━━━━━━━━━━━━━━\u001b[0m\u001b[37m\u001b[0m \u001b[1m2s\u001b[0m 4ms/step - accuracy: 0.9985 - loss: 0.0051 - val_accuracy: 0.9828 - val_loss: 0.0892\n",
      "Epoch 24/35\n",
      "\u001b[1m469/469\u001b[0m \u001b[32m━━━━━━━━━━━━━━━━━━━━\u001b[0m\u001b[37m\u001b[0m \u001b[1m2s\u001b[0m 4ms/step - accuracy: 0.9978 - loss: 0.0071 - val_accuracy: 0.9814 - val_loss: 0.1085\n",
      "Epoch 25/35\n",
      "\u001b[1m469/469\u001b[0m \u001b[32m━━━━━━━━━━━━━━━━━━━━\u001b[0m\u001b[37m\u001b[0m \u001b[1m2s\u001b[0m 4ms/step - accuracy: 0.9979 - loss: 0.0073 - val_accuracy: 0.9823 - val_loss: 0.1059\n",
      "Epoch 26/35\n",
      "\u001b[1m469/469\u001b[0m \u001b[32m━━━━━━━━━━━━━━━━━━━━\u001b[0m\u001b[37m\u001b[0m \u001b[1m2s\u001b[0m 4ms/step - accuracy: 0.9972 - loss: 0.0087 - val_accuracy: 0.9804 - val_loss: 0.0993\n",
      "Epoch 27/35\n",
      "\u001b[1m469/469\u001b[0m \u001b[32m━━━━━━━━━━━━━━━━━━━━\u001b[0m\u001b[37m\u001b[0m \u001b[1m2s\u001b[0m 4ms/step - accuracy: 0.9986 - loss: 0.0052 - val_accuracy: 0.9829 - val_loss: 0.0977\n",
      "Epoch 28/35\n",
      "\u001b[1m469/469\u001b[0m \u001b[32m━━━━━━━━━━━━━━━━━━━━\u001b[0m\u001b[37m\u001b[0m \u001b[1m2s\u001b[0m 4ms/step - accuracy: 0.9987 - loss: 0.0041 - val_accuracy: 0.9821 - val_loss: 0.1105\n",
      "Epoch 29/35\n",
      "\u001b[1m469/469\u001b[0m \u001b[32m━━━━━━━━━━━━━━━━━━━━\u001b[0m\u001b[37m\u001b[0m \u001b[1m2s\u001b[0m 4ms/step - accuracy: 0.9980 - loss: 0.0063 - val_accuracy: 0.9788 - val_loss: 0.1171\n",
      "Epoch 30/35\n",
      "\u001b[1m469/469\u001b[0m \u001b[32m━━━━━━━━━━━━━━━━━━━━\u001b[0m\u001b[37m\u001b[0m \u001b[1m2s\u001b[0m 4ms/step - accuracy: 0.9979 - loss: 0.0079 - val_accuracy: 0.9809 - val_loss: 0.1114\n",
      "Epoch 31/35\n",
      "\u001b[1m469/469\u001b[0m \u001b[32m━━━━━━━━━━━━━━━━━━━━\u001b[0m\u001b[37m\u001b[0m \u001b[1m2s\u001b[0m 4ms/step - accuracy: 0.9991 - loss: 0.0033 - val_accuracy: 0.9838 - val_loss: 0.0938\n",
      "Epoch 32/35\n",
      "\u001b[1m469/469\u001b[0m \u001b[32m━━━━━━━━━━━━━━━━━━━━\u001b[0m\u001b[37m\u001b[0m \u001b[1m2s\u001b[0m 4ms/step - accuracy: 0.9992 - loss: 0.0029 - val_accuracy: 0.9822 - val_loss: 0.1030\n",
      "Epoch 33/35\n",
      "\u001b[1m469/469\u001b[0m \u001b[32m━━━━━━━━━━━━━━━━━━━━\u001b[0m\u001b[37m\u001b[0m \u001b[1m2s\u001b[0m 4ms/step - accuracy: 0.9983 - loss: 0.0061 - val_accuracy: 0.9830 - val_loss: 0.0993\n",
      "Epoch 34/35\n",
      "\u001b[1m469/469\u001b[0m \u001b[32m━━━━━━━━━━━━━━━━━━━━\u001b[0m\u001b[37m\u001b[0m \u001b[1m2s\u001b[0m 4ms/step - accuracy: 0.9990 - loss: 0.0038 - val_accuracy: 0.9773 - val_loss: 0.1380\n",
      "Epoch 35/35\n",
      "\u001b[1m469/469\u001b[0m \u001b[32m━━━━━━━━━━━━━━━━━━━━\u001b[0m\u001b[37m\u001b[0m \u001b[1m2s\u001b[0m 4ms/step - accuracy: 0.9985 - loss: 0.0041 - val_accuracy: 0.9820 - val_loss: 0.1135\n"
     ]
    }
   ],
   "source": [
    "number_of_epochs = 35\n",
    "batch_size_training = 128\n",
    "training_history = model.fit(data_train,\n",
    "                              labels_train,\n",
    "                              batch_size=batch_size_training,\n",
    "                              epochs=number_of_epochs,\n",
    "                              validation_data=(data_test, labels_test))"
   ]
  },
  {
   "cell_type": "code",
   "execution_count": 18,
   "id": "norwegian-supply",
   "metadata": {
    "colab": {
     "base_uri": "https://localhost:8080/"
    },
    "id": "norwegian-supply",
    "outputId": "7a83ba30-0bfb-4450-d4ad-b8789a2a2253"
   },
   "outputs": [
    {
     "name": "stdout",
     "output_type": "stream",
     "text": [
      "Average test accuracy:  0.980262861933027\n"
     ]
    }
   ],
   "source": [
    "print(\"Average test accuracy: \", np.average(training_history.history['val_accuracy']))"
   ]
  },
  {
   "cell_type": "code",
   "execution_count": 19,
   "id": "acute-partnership",
   "metadata": {
    "colab": {
     "base_uri": "https://localhost:8080/"
    },
    "id": "acute-partnership",
    "outputId": "6e3fd7b8-87ad-426d-b8c2-185998c36602"
   },
   "outputs": [
    {
     "name": "stdout",
     "output_type": "stream",
     "text": [
      "313/313 - 0s - 1ms/step - accuracy: 0.9820 - loss: 0.1135\n"
     ]
    },
    {
     "data": {
      "text/plain": [
       "[0.11345814168453217, 0.9819999933242798]"
      ]
     },
     "execution_count": 19,
     "metadata": {},
     "output_type": "execute_result"
    }
   ],
   "source": [
    "model.evaluate(data_test,  labels_test, verbose=2)"
   ]
  },
  {
   "cell_type": "code",
   "execution_count": 20,
   "id": "judicial-structure",
   "metadata": {
    "colab": {
     "base_uri": "https://localhost:8080/",
     "height": 449
    },
    "id": "judicial-structure",
    "outputId": "49fe232d-0838-4ea3-e02b-2cdb4445022b"
   },
   "outputs": [
    {
     "data": {
      "image/png": "[encoded data removed]",
      "text/plain": [
       "<Figure size 640x480 with 1 Axes>"
      ]
     },
     "metadata": {},
     "output_type": "display_data"
    }
   ],
   "source": [
    "plt.plot(range(number_of_epochs), training_history.history['loss'], 'ro-', label=\"Training loss\")\n",
    "plt.plot(range(number_of_epochs), training_history.history['val_loss'], 'bo-', label=\"Test loss\")\n",
    "plt.xlabel(\"# Epochs\")\n",
    "plt.ylabel(\"Loss\")\n",
    "plt.legend()\n",
    "plt.grid()"
   ]
  },
  {
   "cell_type": "code",
   "execution_count": 21,
   "id": "prescription-sailing",
   "metadata": {
    "colab": {
     "base_uri": "https://localhost:8080/",
     "height": 449
    },
    "id": "prescription-sailing",
    "outputId": "5b04a1ad-532f-4dbd-ac92-1274caa8cd3e"
   },
   "outputs": [
    {
     "data": {
      "image/png": "[encoded data removed]",
      "text/plain": [
       "<Figure size 640x480 with 1 Axes>"
      ]
     },
     "metadata": {},
     "output_type": "display_data"
    }
   ],
   "source": [
    "plt.plot(range(number_of_epochs), training_history.history['accuracy'], 'ro-', label=\"Training accuracy\")\n",
    "plt.plot(range(number_of_epochs), training_history.history['val_accuracy'], 'bo-', label=\"Test accuracy\")\n",
    "plt.xlabel(\"# Epochs\")\n",
    "plt.ylabel(\"Accuracy\")\n",
    "plt.legend()\n",
    "plt.grid()"
   ]
  }
 ],
 "metadata": {
  "accelerator": "GPU",
  "colab": {
   "gpuType": "T4",
   "provenance": []
  },
  "kernelspec": {
   "display_name": "Python 3",
   "language": "python",
   "name": "python3"
  },
  "language_info": {
   "codemirror_mode": {
    "name": "ipython",
    "version": 3
   },
   "file_extension": ".py",
   "mimetype": "text/x-python",
   "name": "python",
   "nbconvert_exporter": "python",
   "pygments_lexer": "ipython3",
   "version": "3.12.9"
  }
 },
 "nbformat": 4,
 "nbformat_minor": 5
}
