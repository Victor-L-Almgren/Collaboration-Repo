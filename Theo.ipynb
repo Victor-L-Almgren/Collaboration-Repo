{
 "cells": [
  {
   "cell_type": "code",
   "execution_count": 2,
   "metadata": {},
   "outputs": [],
   "source": [
    "# Importing libraries\n",
    "import numpy as np\n",
    "import pandas as pd\n",
    "import seaborn as sns\n",
    "import matplotlib.pyplot as plt"
   ]
  },
  {
   "cell_type": "code",
   "execution_count": null,
   "metadata": {},
   "outputs": [
    {
     "name": "stdout",
     "output_type": "stream",
     "text": [
      "quarter                                 int64\n",
      "stock                                  object\n",
      "date                                   object\n",
      "open                                  float64\n",
      "high                                  float64\n",
      "low                                   float64\n",
      "close                                 float64\n",
      "volume                                  int64\n",
      "percent_change_price                  float64\n",
      "percent_change_volume_over_last_wk    float64\n",
      "previous_weeks_volume                 float64\n",
      "next_weeks_open                       float64\n",
      "next_weeks_close                      float64\n",
      "percent_change_next_weeks_price       float64\n",
      "days_to_next_dividend                   int64\n",
      "percent_return_next_dividend          float64\n",
      "dtype: object\n",
      "********************************************************************************************************\n",
      "30\n",
      "********************************************************************************************************\n",
      "quarter                                0\n",
      "stock                                  0\n",
      "date                                   0\n",
      "open                                   0\n",
      "high                                   0\n",
      "low                                    0\n",
      "close                                  0\n",
      "volume                                 0\n",
      "percent_change_price                   0\n",
      "percent_change_volume_over_last_wk    30\n",
      "previous_weeks_volume                 30\n",
      "next_weeks_open                        0\n",
      "next_weeks_close                       0\n",
      "percent_change_next_weeks_price        0\n",
      "days_to_next_dividend                  0\n",
      "percent_return_next_dividend           0\n",
      "dtype: int64\n"
     ]
    }
   ],
   "source": [
    "# Load data\n",
    "dow_jones = pd.read_csv(\"dow_jones_index.data\")\n",
    "columns_to_change = [\"open\", \"high\", \"low\", \"close\",\"next_weeks_open\", \"next_weeks_close\"]\n",
    "\n",
    "# Change numeric columns to float for later manipulation and/or visualization\n",
    "\n",
    "for column in columns_to_change:\n",
    "    dow_jones[column] = dow_jones[column].replace({\"\\$\": \"\"}, regex=True).astype(float)\n",
    "\n",
    "\n",
    "print(dow_jones.dtypes)\n",
    "print(\"********************************************************************************************************\")\n",
    "print(dow_jones[\"stock\"].nunique())\n",
    "print(\"********************************************************************************************************\")\n",
    "print(dow_jones.isna().sum())\n",
    "\n",
    "\n",
    "\n",
    "\n"
   ]
  },
  {
   "cell_type": "code",
   "execution_count": null,
   "metadata": {},
   "outputs": [],
   "source": []
  }
 ],
 "metadata": {
  "kernelspec": {
   "display_name": "Python 3",
   "language": "python",
   "name": "python3"
  },
  "language_info": {
   "codemirror_mode": {
    "name": "ipython",
    "version": 3
   },
   "file_extension": ".py",
   "mimetype": "text/x-python",
   "name": "python",
   "nbconvert_exporter": "python",
   "pygments_lexer": "ipython3",
   "version": "3.11.4"
  }
 },
 "nbformat": 4,
 "nbformat_minor": 2
}
